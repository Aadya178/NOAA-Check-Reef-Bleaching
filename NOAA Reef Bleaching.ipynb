{
 "cells": [
  {
   "cell_type": "markdown",
   "metadata": {},
   "source": [
    "# Data Extraction"
   ]
  },
  {
   "cell_type": "markdown",
   "metadata": {},
   "source": [
    "# Importing libraries and NOAA Reef Bleaching dataset"
   ]
  },
  {
   "cell_type": "code",
   "execution_count": 1,
   "metadata": {},
   "outputs": [],
   "source": [
    "%matplotlib inline"
   ]
  },
  {
   "cell_type": "code",
   "execution_count": 2,
   "metadata": {},
   "outputs": [],
   "source": [
    "from numpy import arange\n",
    "import numpy\n",
    "from matplotlib import pyplot as plt\n",
    "from scipy.stats import norm\n",
    "import pandas as pd\n",
    "from sklearn.model_selection import cross_val_score\n",
    "from sklearn.model_selection import KFold\n",
    "from sklearn.linear_model import LogisticRegression\n",
    "from sklearn import model_selection"
   ]
  },
  {
   "cell_type": "code",
   "execution_count": 3,
   "metadata": {},
   "outputs": [],
   "source": [
    "columns = ['Bleaching','Ocean','Year','Depth','Storms','Human Impact','Siltation','Dynamite','Poison','Sewage','Industrial','Commercial']\n",
    "df = pd.read_csv(r\"C:/Users/Aadya/Downloads/NOAA_reef_check_bleaching_data.csv\")"
   ]
  },
  {
   "cell_type": "code",
   "execution_count": 4,
   "metadata": {
    "scrolled": true
   },
   "outputs": [
    {
     "data": {
      "text/html": [
       "<div>\n",
       "<style scoped>\n",
       "    .dataframe tbody tr th:only-of-type {\n",
       "        vertical-align: middle;\n",
       "    }\n",
       "\n",
       "    .dataframe tbody tr th {\n",
       "        vertical-align: top;\n",
       "    }\n",
       "\n",
       "    .dataframe thead th {\n",
       "        text-align: right;\n",
       "    }\n",
       "</style>\n",
       "<table border=\"1\" class=\"dataframe\">\n",
       "  <thead>\n",
       "    <tr style=\"text-align: right;\">\n",
       "      <th></th>\n",
       "      <th>Bleaching</th>\n",
       "      <th>Ocean</th>\n",
       "      <th>Year</th>\n",
       "      <th>Depth</th>\n",
       "      <th>Storms</th>\n",
       "      <th>Human Impact</th>\n",
       "      <th>Siltation</th>\n",
       "      <th>Dynamite</th>\n",
       "      <th>Poison</th>\n",
       "      <th>Sewage</th>\n",
       "      <th>Industrial</th>\n",
       "      <th>Commercial</th>\n",
       "    </tr>\n",
       "  </thead>\n",
       "  <tbody>\n",
       "    <tr>\n",
       "      <th>0</th>\n",
       "      <td>No</td>\n",
       "      <td>Atlantic</td>\n",
       "      <td>2005</td>\n",
       "      <td>4.0</td>\n",
       "      <td>yes</td>\n",
       "      <td>high</td>\n",
       "      <td>often</td>\n",
       "      <td>none</td>\n",
       "      <td>none</td>\n",
       "      <td>high</td>\n",
       "      <td>none</td>\n",
       "      <td>none</td>\n",
       "    </tr>\n",
       "    <tr>\n",
       "      <th>1</th>\n",
       "      <td>No</td>\n",
       "      <td>Red Sea</td>\n",
       "      <td>2004</td>\n",
       "      <td>6.0</td>\n",
       "      <td>no</td>\n",
       "      <td>high</td>\n",
       "      <td>occasionally</td>\n",
       "      <td>none</td>\n",
       "      <td>none</td>\n",
       "      <td>low</td>\n",
       "      <td>none</td>\n",
       "      <td>none</td>\n",
       "    </tr>\n",
       "    <tr>\n",
       "      <th>2</th>\n",
       "      <td>No</td>\n",
       "      <td>Pacific</td>\n",
       "      <td>1998</td>\n",
       "      <td>3.0</td>\n",
       "      <td>no</td>\n",
       "      <td>low</td>\n",
       "      <td>never</td>\n",
       "      <td>none</td>\n",
       "      <td>none</td>\n",
       "      <td>none</td>\n",
       "      <td>low</td>\n",
       "      <td>none</td>\n",
       "    </tr>\n",
       "    <tr>\n",
       "      <th>3</th>\n",
       "      <td>No</td>\n",
       "      <td>Pacific</td>\n",
       "      <td>1998</td>\n",
       "      <td>10.0</td>\n",
       "      <td>no</td>\n",
       "      <td>low</td>\n",
       "      <td>never</td>\n",
       "      <td>none</td>\n",
       "      <td>none</td>\n",
       "      <td>none</td>\n",
       "      <td>low</td>\n",
       "      <td>none</td>\n",
       "    </tr>\n",
       "    <tr>\n",
       "      <th>4</th>\n",
       "      <td>No</td>\n",
       "      <td>Atlantic</td>\n",
       "      <td>1997</td>\n",
       "      <td>10.0</td>\n",
       "      <td>no</td>\n",
       "      <td>high</td>\n",
       "      <td>never</td>\n",
       "      <td>none</td>\n",
       "      <td>none</td>\n",
       "      <td>high</td>\n",
       "      <td>moderate</td>\n",
       "      <td>none</td>\n",
       "    </tr>\n",
       "  </tbody>\n",
       "</table>\n",
       "</div>"
      ],
      "text/plain": [
       "  Bleaching     Ocean  Year  Depth Storms Human Impact     Siltation Dynamite  \\\n",
       "0        No  Atlantic  2005    4.0    yes         high         often     none   \n",
       "1        No   Red Sea  2004    6.0     no         high  occasionally     none   \n",
       "2        No   Pacific  1998    3.0     no          low         never     none   \n",
       "3        No   Pacific  1998   10.0     no          low         never     none   \n",
       "4        No  Atlantic  1997   10.0     no         high         never     none   \n",
       "\n",
       "  Poison Sewage Industrial Commercial  \n",
       "0   none   high       none       none  \n",
       "1   none    low       none       none  \n",
       "2   none   none        low       none  \n",
       "3   none   none        low       none  \n",
       "4   none   high   moderate       none  "
      ]
     },
     "execution_count": 4,
     "metadata": {},
     "output_type": "execute_result"
    }
   ],
   "source": [
    "df.columns = columns\n",
    "df.head()"
   ]
  },
  {
   "cell_type": "markdown",
   "metadata": {},
   "source": [
    "Removing the first row of the dataset. It will be used later."
   ]
  },
  {
   "cell_type": "code",
   "execution_count": 5,
   "metadata": {},
   "outputs": [
    {
     "data": {
      "text/plain": [
       "9111"
      ]
     },
     "execution_count": 5,
     "metadata": {},
     "output_type": "execute_result"
    }
   ],
   "source": [
    "#Total rows in the original dataframe\n",
    "len(df.axes[0])"
   ]
  },
  {
   "cell_type": "code",
   "execution_count": 6,
   "metadata": {},
   "outputs": [
    {
     "data": {
      "text/html": [
       "<div>\n",
       "<style scoped>\n",
       "    .dataframe tbody tr th:only-of-type {\n",
       "        vertical-align: middle;\n",
       "    }\n",
       "\n",
       "    .dataframe tbody tr th {\n",
       "        vertical-align: top;\n",
       "    }\n",
       "\n",
       "    .dataframe thead th {\n",
       "        text-align: right;\n",
       "    }\n",
       "</style>\n",
       "<table border=\"1\" class=\"dataframe\">\n",
       "  <thead>\n",
       "    <tr style=\"text-align: right;\">\n",
       "      <th></th>\n",
       "      <th>Bleaching</th>\n",
       "      <th>Ocean</th>\n",
       "      <th>Year</th>\n",
       "      <th>Depth</th>\n",
       "      <th>Storms</th>\n",
       "      <th>Human Impact</th>\n",
       "      <th>Siltation</th>\n",
       "      <th>Dynamite</th>\n",
       "      <th>Poison</th>\n",
       "      <th>Sewage</th>\n",
       "      <th>Industrial</th>\n",
       "      <th>Commercial</th>\n",
       "    </tr>\n",
       "  </thead>\n",
       "  <tbody>\n",
       "    <tr>\n",
       "      <th>0</th>\n",
       "      <td>No</td>\n",
       "      <td>Atlantic</td>\n",
       "      <td>2005</td>\n",
       "      <td>4.0</td>\n",
       "      <td>yes</td>\n",
       "      <td>high</td>\n",
       "      <td>often</td>\n",
       "      <td>none</td>\n",
       "      <td>none</td>\n",
       "      <td>high</td>\n",
       "      <td>none</td>\n",
       "      <td>none</td>\n",
       "    </tr>\n",
       "    <tr>\n",
       "      <th>1</th>\n",
       "      <td>No</td>\n",
       "      <td>Red Sea</td>\n",
       "      <td>2004</td>\n",
       "      <td>6.0</td>\n",
       "      <td>no</td>\n",
       "      <td>high</td>\n",
       "      <td>occasionally</td>\n",
       "      <td>none</td>\n",
       "      <td>none</td>\n",
       "      <td>low</td>\n",
       "      <td>none</td>\n",
       "      <td>none</td>\n",
       "    </tr>\n",
       "  </tbody>\n",
       "</table>\n",
       "</div>"
      ],
      "text/plain": [
       "  Bleaching     Ocean  Year  Depth Storms Human Impact     Siltation Dynamite  \\\n",
       "0        No  Atlantic  2005    4.0    yes         high         often     none   \n",
       "1        No   Red Sea  2004    6.0     no         high  occasionally     none   \n",
       "\n",
       "  Poison Sewage Industrial Commercial  \n",
       "0   none   high       none       none  \n",
       "1   none    low       none       none  "
      ]
     },
     "execution_count": 6,
     "metadata": {},
     "output_type": "execute_result"
    }
   ],
   "source": [
    "#Original dataframe\n",
    "df.head(2)"
   ]
  },
  {
   "cell_type": "code",
   "execution_count": 7,
   "metadata": {},
   "outputs": [
    {
     "name": "stdout",
     "output_type": "stream",
     "text": [
      "['No', 'Atlantic', 2005, 4.0, 'yes', 'high', 'often', 'none', 'none', 'high', 'none', 'none']\n"
     ]
    }
   ],
   "source": [
    "#Assigning first row of the dataframe to 'row' variable\n",
    "row = df.iloc[0]\n",
    "row=list(row)\n",
    "print(row)"
   ]
  },
  {
   "cell_type": "code",
   "execution_count": 8,
   "metadata": {},
   "outputs": [],
   "source": [
    "#Removing first row from the dataframe\n",
    "df = df.drop([0],axis=0)"
   ]
  },
  {
   "cell_type": "code",
   "execution_count": 9,
   "metadata": {},
   "outputs": [
    {
     "data": {
      "text/html": [
       "<div>\n",
       "<style scoped>\n",
       "    .dataframe tbody tr th:only-of-type {\n",
       "        vertical-align: middle;\n",
       "    }\n",
       "\n",
       "    .dataframe tbody tr th {\n",
       "        vertical-align: top;\n",
       "    }\n",
       "\n",
       "    .dataframe thead th {\n",
       "        text-align: right;\n",
       "    }\n",
       "</style>\n",
       "<table border=\"1\" class=\"dataframe\">\n",
       "  <thead>\n",
       "    <tr style=\"text-align: right;\">\n",
       "      <th></th>\n",
       "      <th>Bleaching</th>\n",
       "      <th>Ocean</th>\n",
       "      <th>Year</th>\n",
       "      <th>Depth</th>\n",
       "      <th>Storms</th>\n",
       "      <th>Human Impact</th>\n",
       "      <th>Siltation</th>\n",
       "      <th>Dynamite</th>\n",
       "      <th>Poison</th>\n",
       "      <th>Sewage</th>\n",
       "      <th>Industrial</th>\n",
       "      <th>Commercial</th>\n",
       "    </tr>\n",
       "  </thead>\n",
       "  <tbody>\n",
       "    <tr>\n",
       "      <th>1</th>\n",
       "      <td>No</td>\n",
       "      <td>Red Sea</td>\n",
       "      <td>2004</td>\n",
       "      <td>6.0</td>\n",
       "      <td>no</td>\n",
       "      <td>high</td>\n",
       "      <td>occasionally</td>\n",
       "      <td>none</td>\n",
       "      <td>none</td>\n",
       "      <td>low</td>\n",
       "      <td>none</td>\n",
       "      <td>none</td>\n",
       "    </tr>\n",
       "  </tbody>\n",
       "</table>\n",
       "</div>"
      ],
      "text/plain": [
       "  Bleaching    Ocean  Year  Depth Storms Human Impact     Siltation Dynamite  \\\n",
       "1        No  Red Sea  2004    6.0     no         high  occasionally     none   \n",
       "\n",
       "  Poison Sewage Industrial Commercial  \n",
       "1   none    low       none       none  "
      ]
     },
     "execution_count": 9,
     "metadata": {},
     "output_type": "execute_result"
    }
   ],
   "source": [
    "#New dataframe\n",
    "df.head(1)"
   ]
  },
  {
   "cell_type": "code",
   "execution_count": 10,
   "metadata": {},
   "outputs": [
    {
     "data": {
      "text/plain": [
       "9110"
      ]
     },
     "execution_count": 10,
     "metadata": {},
     "output_type": "execute_result"
    }
   ],
   "source": [
    "#Total rows in the new dataframe\n",
    "len(df.axes[0])"
   ]
  },
  {
   "cell_type": "markdown",
   "metadata": {},
   "source": [
    "# Data Exploration"
   ]
  },
  {
   "cell_type": "code",
   "execution_count": 11,
   "metadata": {
    "scrolled": true
   },
   "outputs": [
    {
     "name": "stdout",
     "output_type": "stream",
     "text": [
      "<class 'pandas.core.frame.DataFrame'>\n",
      "Int64Index: 9110 entries, 1 to 9110\n",
      "Data columns (total 12 columns):\n",
      " #   Column        Non-Null Count  Dtype  \n",
      "---  ------        --------------  -----  \n",
      " 0   Bleaching     9110 non-null   object \n",
      " 1   Ocean         9110 non-null   object \n",
      " 2   Year          9110 non-null   int64  \n",
      " 3   Depth         9110 non-null   float64\n",
      " 4   Storms        9110 non-null   object \n",
      " 5   Human Impact  9110 non-null   object \n",
      " 6   Siltation     9110 non-null   object \n",
      " 7   Dynamite      9110 non-null   object \n",
      " 8   Poison        9110 non-null   object \n",
      " 9   Sewage        9110 non-null   object \n",
      " 10  Industrial    9110 non-null   object \n",
      " 11  Commercial    9110 non-null   object \n",
      "dtypes: float64(1), int64(1), object(10)\n",
      "memory usage: 925.2+ KB\n"
     ]
    }
   ],
   "source": [
    "#Information about the dataset\n",
    "df.info()"
   ]
  },
  {
   "cell_type": "code",
   "execution_count": 12,
   "metadata": {
    "scrolled": false
   },
   "outputs": [
    {
     "data": {
      "text/plain": [
       "Bleaching        object\n",
       "Ocean            object\n",
       "Year              int64\n",
       "Depth           float64\n",
       "Storms           object\n",
       "Human Impact     object\n",
       "Siltation        object\n",
       "Dynamite         object\n",
       "Poison           object\n",
       "Sewage           object\n",
       "Industrial       object\n",
       "Commercial       object\n",
       "dtype: object"
      ]
     },
     "execution_count": 12,
     "metadata": {},
     "output_type": "execute_result"
    }
   ],
   "source": [
    "#Data types of the dataset columns\n",
    "df.dtypes"
   ]
  },
  {
   "cell_type": "code",
   "execution_count": 13,
   "metadata": {},
   "outputs": [
    {
     "data": {
      "text/plain": [
       "Index           72880\n",
       "Bleaching       72880\n",
       "Ocean           72880\n",
       "Year            72880\n",
       "Depth           72880\n",
       "Storms          72880\n",
       "Human Impact    72880\n",
       "Siltation       72880\n",
       "Dynamite        72880\n",
       "Poison          72880\n",
       "Sewage          72880\n",
       "Industrial      72880\n",
       "Commercial      72880\n",
       "dtype: int64"
      ]
     },
     "execution_count": 13,
     "metadata": {},
     "output_type": "execute_result"
    }
   ],
   "source": [
    "#Memory used by each column in the dataset\n",
    "df.memory_usage()"
   ]
  },
  {
   "cell_type": "code",
   "execution_count": 14,
   "metadata": {},
   "outputs": [
    {
     "data": {
      "text/plain": [
       "947440"
      ]
     },
     "execution_count": 14,
     "metadata": {},
     "output_type": "execute_result"
    }
   ],
   "source": [
    "#Total memory used by the dataset\n",
    "df.memory_usage().sum()"
   ]
  },
  {
   "cell_type": "markdown",
   "metadata": {},
   "source": [
    "# Data Cleaning"
   ]
  },
  {
   "cell_type": "code",
   "execution_count": 15,
   "metadata": {
    "scrolled": false
   },
   "outputs": [
    {
     "data": {
      "text/plain": [
       "0"
      ]
     },
     "execution_count": 15,
     "metadata": {},
     "output_type": "execute_result"
    }
   ],
   "source": [
    "#Check if there are missing values in the dataset\n",
    "df.isnull().sum().sum()"
   ]
  },
  {
   "cell_type": "code",
   "execution_count": 16,
   "metadata": {
    "scrolled": true
   },
   "outputs": [
    {
     "data": {
      "text/plain": [
       "2412"
      ]
     },
     "execution_count": 16,
     "metadata": {},
     "output_type": "execute_result"
    }
   ],
   "source": [
    "#Check if there are duplicate rows in the dataset\n",
    "df.duplicated().sum()"
   ]
  },
  {
   "cell_type": "code",
   "execution_count": 17,
   "metadata": {},
   "outputs": [],
   "source": [
    "#Removing duplicates from the dataset\n",
    "df.drop_duplicates(keep=\"first\",inplace=True)"
   ]
  },
  {
   "cell_type": "code",
   "execution_count": 18,
   "metadata": {
    "scrolled": true
   },
   "outputs": [
    {
     "data": {
      "text/plain": [
       "0"
      ]
     },
     "execution_count": 18,
     "metadata": {},
     "output_type": "execute_result"
    }
   ],
   "source": [
    "#Check if duplicate rows have been removed successfully from the dataset\n",
    "df.duplicated().sum()"
   ]
  },
  {
   "cell_type": "markdown",
   "metadata": {},
   "source": [
    "Label encoding columns having non-integer values"
   ]
  },
  {
   "cell_type": "code",
   "execution_count": 19,
   "metadata": {
    "scrolled": true
   },
   "outputs": [],
   "source": [
    "df['Human Impact'].replace({'none':0,'low':1,'moderate':2,'high':3},inplace=True)"
   ]
  },
  {
   "cell_type": "code",
   "execution_count": 20,
   "metadata": {},
   "outputs": [],
   "source": [
    "df['Siltation'].replace({'never':0,'occasionally':1,'often':2,'always':3},inplace=True)"
   ]
  },
  {
   "cell_type": "code",
   "execution_count": 21,
   "metadata": {},
   "outputs": [],
   "source": [
    "df['Dynamite'].replace({'none':0,'low':1,'moderate':2,'high':3},inplace=True)"
   ]
  },
  {
   "cell_type": "code",
   "execution_count": 22,
   "metadata": {},
   "outputs": [],
   "source": [
    "df['Poison'].replace({'none':0,'low':1,'moderate':2,'high':3},inplace=True)"
   ]
  },
  {
   "cell_type": "code",
   "execution_count": 23,
   "metadata": {},
   "outputs": [],
   "source": [
    "df['Sewage'].replace({'none':0,'low':1,'moderate':2,'high':3},inplace=True)"
   ]
  },
  {
   "cell_type": "code",
   "execution_count": 24,
   "metadata": {},
   "outputs": [],
   "source": [
    "df['Industrial'].replace({'none':0,'low':1,'moderate':2,'high':3},inplace=True)"
   ]
  },
  {
   "cell_type": "code",
   "execution_count": 25,
   "metadata": {},
   "outputs": [],
   "source": [
    "df['Storms'].replace({'yes':1,'no':0},inplace=True)"
   ]
  },
  {
   "cell_type": "code",
   "execution_count": 26,
   "metadata": {},
   "outputs": [],
   "source": [
    "df['Commercial'].replace({'none':0,'low':1,'moderate':2,'high':3},inplace=True)"
   ]
  },
  {
   "cell_type": "code",
   "execution_count": 27,
   "metadata": {},
   "outputs": [],
   "source": [
    "df['Bleaching'].replace({'Yes':1,'No':0},inplace=True)"
   ]
  },
  {
   "cell_type": "code",
   "execution_count": 28,
   "metadata": {},
   "outputs": [],
   "source": [
    "df['Ocean'].replace({'Atlantic':0,'Pacific':1,'Red Sea':2,'East Pacific':3,'Arabian Gulf':4,'Indian':5},inplace=True)"
   ]
  },
  {
   "cell_type": "code",
   "execution_count": 29,
   "metadata": {
    "scrolled": true
   },
   "outputs": [
    {
     "data": {
      "text/html": [
       "<div>\n",
       "<style scoped>\n",
       "    .dataframe tbody tr th:only-of-type {\n",
       "        vertical-align: middle;\n",
       "    }\n",
       "\n",
       "    .dataframe tbody tr th {\n",
       "        vertical-align: top;\n",
       "    }\n",
       "\n",
       "    .dataframe thead th {\n",
       "        text-align: right;\n",
       "    }\n",
       "</style>\n",
       "<table border=\"1\" class=\"dataframe\">\n",
       "  <thead>\n",
       "    <tr style=\"text-align: right;\">\n",
       "      <th></th>\n",
       "      <th>Bleaching</th>\n",
       "      <th>Ocean</th>\n",
       "      <th>Year</th>\n",
       "      <th>Depth</th>\n",
       "      <th>Storms</th>\n",
       "      <th>Human Impact</th>\n",
       "      <th>Siltation</th>\n",
       "      <th>Dynamite</th>\n",
       "      <th>Poison</th>\n",
       "      <th>Sewage</th>\n",
       "      <th>Industrial</th>\n",
       "      <th>Commercial</th>\n",
       "    </tr>\n",
       "  </thead>\n",
       "  <tbody>\n",
       "    <tr>\n",
       "      <th>1</th>\n",
       "      <td>0</td>\n",
       "      <td>2</td>\n",
       "      <td>2004</td>\n",
       "      <td>6.0</td>\n",
       "      <td>0</td>\n",
       "      <td>3</td>\n",
       "      <td>1</td>\n",
       "      <td>0</td>\n",
       "      <td>0</td>\n",
       "      <td>1</td>\n",
       "      <td>0</td>\n",
       "      <td>0</td>\n",
       "    </tr>\n",
       "    <tr>\n",
       "      <th>2</th>\n",
       "      <td>0</td>\n",
       "      <td>1</td>\n",
       "      <td>1998</td>\n",
       "      <td>3.0</td>\n",
       "      <td>0</td>\n",
       "      <td>1</td>\n",
       "      <td>0</td>\n",
       "      <td>0</td>\n",
       "      <td>0</td>\n",
       "      <td>0</td>\n",
       "      <td>1</td>\n",
       "      <td>0</td>\n",
       "    </tr>\n",
       "    <tr>\n",
       "      <th>3</th>\n",
       "      <td>0</td>\n",
       "      <td>1</td>\n",
       "      <td>1998</td>\n",
       "      <td>10.0</td>\n",
       "      <td>0</td>\n",
       "      <td>1</td>\n",
       "      <td>0</td>\n",
       "      <td>0</td>\n",
       "      <td>0</td>\n",
       "      <td>0</td>\n",
       "      <td>1</td>\n",
       "      <td>0</td>\n",
       "    </tr>\n",
       "    <tr>\n",
       "      <th>4</th>\n",
       "      <td>0</td>\n",
       "      <td>0</td>\n",
       "      <td>1997</td>\n",
       "      <td>10.0</td>\n",
       "      <td>0</td>\n",
       "      <td>3</td>\n",
       "      <td>0</td>\n",
       "      <td>0</td>\n",
       "      <td>0</td>\n",
       "      <td>3</td>\n",
       "      <td>2</td>\n",
       "      <td>0</td>\n",
       "    </tr>\n",
       "    <tr>\n",
       "      <th>5</th>\n",
       "      <td>0</td>\n",
       "      <td>0</td>\n",
       "      <td>1998</td>\n",
       "      <td>6.0</td>\n",
       "      <td>0</td>\n",
       "      <td>1</td>\n",
       "      <td>0</td>\n",
       "      <td>0</td>\n",
       "      <td>0</td>\n",
       "      <td>0</td>\n",
       "      <td>0</td>\n",
       "      <td>0</td>\n",
       "    </tr>\n",
       "  </tbody>\n",
       "</table>\n",
       "</div>"
      ],
      "text/plain": [
       "   Bleaching  Ocean  Year  Depth  Storms  Human Impact  Siltation  Dynamite  \\\n",
       "1          0      2  2004    6.0       0             3          1         0   \n",
       "2          0      1  1998    3.0       0             1          0         0   \n",
       "3          0      1  1998   10.0       0             1          0         0   \n",
       "4          0      0  1997   10.0       0             3          0         0   \n",
       "5          0      0  1998    6.0       0             1          0         0   \n",
       "\n",
       "   Poison  Sewage  Industrial  Commercial  \n",
       "1       0       1           0           0  \n",
       "2       0       0           1           0  \n",
       "3       0       0           1           0  \n",
       "4       0       3           2           0  \n",
       "5       0       0           0           0  "
      ]
     },
     "execution_count": 29,
     "metadata": {},
     "output_type": "execute_result"
    }
   ],
   "source": [
    "#Data after Label encoding\n",
    "df.head()"
   ]
  },
  {
   "cell_type": "markdown",
   "metadata": {},
   "source": [
    "# Data Visualization"
   ]
  },
  {
   "cell_type": "code",
   "execution_count": 30,
   "metadata": {},
   "outputs": [
    {
     "data": {
      "image/png": "[encoded data removed]",
      "text/plain": [
       "<Figure size 576x360 with 1 Axes>"
      ]
     },
     "metadata": {
      "needs_background": "light"
     },
     "output_type": "display_data"
    }
   ],
   "source": [
    "#Boxplot\n",
    "df['Depth'].plot.box(figsize=(8, 5));"
   ]
  },
  {
   "cell_type": "code",
   "execution_count": 31,
   "metadata": {
    "scrolled": false
   },
   "outputs": [
    {
     "data": {
      "text/plain": [
       "<AxesSubplot:>"
      ]
     },
     "execution_count": 31,
     "metadata": {},
     "output_type": "execute_result"
    },
    {
     "data": {
      "image/png": "[encoded data removed]",
      "text/plain": [
       "<Figure size 1440x1440 with 1 Axes>"
      ]
     },
     "metadata": {
      "needs_background": "light"
     },
     "output_type": "display_data"
    }
   ],
   "source": [
    "#Boxplot of all the columns with numerical data\n",
    "df.boxplot(figsize=(20,20))"
   ]
  },
  {
   "cell_type": "code",
   "execution_count": 32,
   "metadata": {},
   "outputs": [
    {
     "data": {
      "image/png": "[encoded data removed]",
      "text/plain": [
       "<Figure size 576x360 with 1 Axes>"
      ]
     },
     "metadata": {
      "needs_background": "light"
     },
     "output_type": "display_data"
    }
   ],
   "source": [
    "#Histogram\n",
    "df['Depth'].hist(bins=30, figsize=(8, 5));"
   ]
  },
  {
   "cell_type": "code",
   "execution_count": 33,
   "metadata": {},
   "outputs": [
    {
     "data": {
      "text/plain": [
       "(0.0, 25.0)"
      ]
     },
     "execution_count": 33,
     "metadata": {},
     "output_type": "execute_result"
    },
    {
     "data": {
      "image/png": "[encoded data removed]",
      "text/plain": [
       "<Figure size 576x360 with 1 Axes>"
      ]
     },
     "metadata": {
      "needs_background": "light"
     },
     "output_type": "display_data"
    }
   ],
   "source": [
    "#Histogram with details\n",
    "ax = df['Depth'].hist(bins=30, grid=False, color='green', figsize=(8, 5)) #grid turned off and colour changed\n",
    "ax.set_xlabel('Depth')\n",
    "ax.set_xlim(0,25) #limiting display range to 0-25 for the x-axis"
   ]
  },
  {
   "cell_type": "code",
   "execution_count": 34,
   "metadata": {
    "scrolled": true
   },
   "outputs": [
    {
     "data": {
      "image/png": "[encoded data removed]",
      "text/plain": [
       "<Figure size 432x288 with 1 Axes>"
      ]
     },
     "metadata": {
      "needs_background": "light"
     },
     "output_type": "display_data"
    }
   ],
   "source": [
    "#Barplot\n",
    "df_avg_depth = df.groupby('Year')['Depth'].mean()\n",
    "df_avg_depth[:].plot.bar(color='orange');"
   ]
  },
  {
   "cell_type": "code",
   "execution_count": 35,
   "metadata": {},
   "outputs": [
    {
     "data": {
      "text/plain": [
       "<AxesSubplot:xlabel='Year', ylabel='Depth'>"
      ]
     },
     "execution_count": 35,
     "metadata": {},
     "output_type": "execute_result"
    },
    {
     "data": {
      "image/png": "[encoded data removed]",
      "text/plain": [
       "<Figure size 1440x360 with 1 Axes>"
      ]
     },
     "metadata": {
      "needs_background": "light"
     },
     "output_type": "display_data"
    }
   ],
   "source": [
    "#Scatterplot\n",
    "df.plot.scatter('Year','Depth',figsize=(20,5))"
   ]
  },
  {
   "cell_type": "code",
   "execution_count": 36,
   "metadata": {},
   "outputs": [
    {
     "name": "stdout",
     "output_type": "stream",
     "text": [
      "6698\n"
     ]
    }
   ],
   "source": [
    "#No. of rows in the dataset after cleaning\n",
    "print(len(df.axes[0]))"
   ]
  },
  {
   "cell_type": "code",
   "execution_count": 37,
   "metadata": {},
   "outputs": [
    {
     "data": {
      "text/plain": [
       "Bleaching         int64\n",
       "Ocean             int64\n",
       "Year              int64\n",
       "Depth           float64\n",
       "Storms            int64\n",
       "Human Impact      int64\n",
       "Siltation         int64\n",
       "Dynamite          int64\n",
       "Poison            int64\n",
       "Sewage            int64\n",
       "Industrial        int64\n",
       "Commercial        int64\n",
       "dtype: object"
      ]
     },
     "execution_count": 37,
     "metadata": {},
     "output_type": "execute_result"
    }
   ],
   "source": [
    "#Data types of dataset columns after label encoding\n",
    "df.dtypes"
   ]
  },
  {
   "cell_type": "code",
   "execution_count": 38,
   "metadata": {
    "scrolled": true
   },
   "outputs": [
    {
     "data": {
      "text/html": [
       "<div>\n",
       "<style scoped>\n",
       "    .dataframe tbody tr th:only-of-type {\n",
       "        vertical-align: middle;\n",
       "    }\n",
       "\n",
       "    .dataframe tbody tr th {\n",
       "        vertical-align: top;\n",
       "    }\n",
       "\n",
       "    .dataframe thead th {\n",
       "        text-align: right;\n",
       "    }\n",
       "</style>\n",
       "<table border=\"1\" class=\"dataframe\">\n",
       "  <thead>\n",
       "    <tr style=\"text-align: right;\">\n",
       "      <th></th>\n",
       "      <th>Bleaching</th>\n",
       "      <th>Ocean</th>\n",
       "      <th>Year</th>\n",
       "      <th>Depth</th>\n",
       "      <th>Storms</th>\n",
       "      <th>Human Impact</th>\n",
       "      <th>Siltation</th>\n",
       "      <th>Dynamite</th>\n",
       "      <th>Poison</th>\n",
       "      <th>Sewage</th>\n",
       "      <th>Industrial</th>\n",
       "      <th>Commercial</th>\n",
       "    </tr>\n",
       "  </thead>\n",
       "  <tbody>\n",
       "    <tr>\n",
       "      <th>count</th>\n",
       "      <td>6698.000000</td>\n",
       "      <td>6698.000000</td>\n",
       "      <td>6698.000000</td>\n",
       "      <td>6698.000000</td>\n",
       "      <td>6698.000000</td>\n",
       "      <td>6698.000000</td>\n",
       "      <td>6698.000000</td>\n",
       "      <td>6698.000000</td>\n",
       "      <td>6698.000000</td>\n",
       "      <td>6698.000000</td>\n",
       "      <td>6698.000000</td>\n",
       "      <td>6698.000000</td>\n",
       "    </tr>\n",
       "    <tr>\n",
       "      <th>mean</th>\n",
       "      <td>0.032696</td>\n",
       "      <td>1.252314</td>\n",
       "      <td>2007.597342</td>\n",
       "      <td>6.540520</td>\n",
       "      <td>0.537325</td>\n",
       "      <td>1.528367</td>\n",
       "      <td>0.682443</td>\n",
       "      <td>0.206480</td>\n",
       "      <td>0.188265</td>\n",
       "      <td>0.719170</td>\n",
       "      <td>0.256345</td>\n",
       "      <td>0.788295</td>\n",
       "    </tr>\n",
       "    <tr>\n",
       "      <th>std</th>\n",
       "      <td>0.177854</td>\n",
       "      <td>1.373592</td>\n",
       "      <td>4.857489</td>\n",
       "      <td>3.565542</td>\n",
       "      <td>0.498642</td>\n",
       "      <td>0.816537</td>\n",
       "      <td>0.766784</td>\n",
       "      <td>0.594565</td>\n",
       "      <td>0.526666</td>\n",
       "      <td>0.780794</td>\n",
       "      <td>0.587417</td>\n",
       "      <td>0.979391</td>\n",
       "    </tr>\n",
       "    <tr>\n",
       "      <th>min</th>\n",
       "      <td>0.000000</td>\n",
       "      <td>0.000000</td>\n",
       "      <td>1997.000000</td>\n",
       "      <td>0.500000</td>\n",
       "      <td>0.000000</td>\n",
       "      <td>0.000000</td>\n",
       "      <td>0.000000</td>\n",
       "      <td>0.000000</td>\n",
       "      <td>0.000000</td>\n",
       "      <td>0.000000</td>\n",
       "      <td>0.000000</td>\n",
       "      <td>0.000000</td>\n",
       "    </tr>\n",
       "    <tr>\n",
       "      <th>25%</th>\n",
       "      <td>0.000000</td>\n",
       "      <td>1.000000</td>\n",
       "      <td>2004.000000</td>\n",
       "      <td>3.500000</td>\n",
       "      <td>0.000000</td>\n",
       "      <td>1.000000</td>\n",
       "      <td>0.000000</td>\n",
       "      <td>0.000000</td>\n",
       "      <td>0.000000</td>\n",
       "      <td>0.000000</td>\n",
       "      <td>0.000000</td>\n",
       "      <td>0.000000</td>\n",
       "    </tr>\n",
       "    <tr>\n",
       "      <th>50%</th>\n",
       "      <td>0.000000</td>\n",
       "      <td>1.000000</td>\n",
       "      <td>2007.000000</td>\n",
       "      <td>6.000000</td>\n",
       "      <td>1.000000</td>\n",
       "      <td>1.000000</td>\n",
       "      <td>1.000000</td>\n",
       "      <td>0.000000</td>\n",
       "      <td>0.000000</td>\n",
       "      <td>1.000000</td>\n",
       "      <td>0.000000</td>\n",
       "      <td>0.000000</td>\n",
       "    </tr>\n",
       "    <tr>\n",
       "      <th>75%</th>\n",
       "      <td>0.000000</td>\n",
       "      <td>1.000000</td>\n",
       "      <td>2011.000000</td>\n",
       "      <td>10.000000</td>\n",
       "      <td>1.000000</td>\n",
       "      <td>2.000000</td>\n",
       "      <td>1.000000</td>\n",
       "      <td>0.000000</td>\n",
       "      <td>0.000000</td>\n",
       "      <td>1.000000</td>\n",
       "      <td>0.000000</td>\n",
       "      <td>1.000000</td>\n",
       "    </tr>\n",
       "    <tr>\n",
       "      <th>max</th>\n",
       "      <td>1.000000</td>\n",
       "      <td>5.000000</td>\n",
       "      <td>2017.000000</td>\n",
       "      <td>23.000000</td>\n",
       "      <td>1.000000</td>\n",
       "      <td>3.000000</td>\n",
       "      <td>3.000000</td>\n",
       "      <td>3.000000</td>\n",
       "      <td>3.000000</td>\n",
       "      <td>3.000000</td>\n",
       "      <td>3.000000</td>\n",
       "      <td>3.000000</td>\n",
       "    </tr>\n",
       "  </tbody>\n",
       "</table>\n",
       "</div>"
      ],
      "text/plain": [
       "         Bleaching        Ocean         Year        Depth       Storms  \\\n",
       "count  6698.000000  6698.000000  6698.000000  6698.000000  6698.000000   \n",
       "mean      0.032696     1.252314  2007.597342     6.540520     0.537325   \n",
       "std       0.177854     1.373592     4.857489     3.565542     0.498642   \n",
       "min       0.000000     0.000000  1997.000000     0.500000     0.000000   \n",
       "25%       0.000000     1.000000  2004.000000     3.500000     0.000000   \n",
       "50%       0.000000     1.000000  2007.000000     6.000000     1.000000   \n",
       "75%       0.000000     1.000000  2011.000000    10.000000     1.000000   \n",
       "max       1.000000     5.000000  2017.000000    23.000000     1.000000   \n",
       "\n",
       "       Human Impact    Siltation     Dynamite       Poison       Sewage  \\\n",
       "count   6698.000000  6698.000000  6698.000000  6698.000000  6698.000000   \n",
       "mean       1.528367     0.682443     0.206480     0.188265     0.719170   \n",
       "std        0.816537     0.766784     0.594565     0.526666     0.780794   \n",
       "min        0.000000     0.000000     0.000000     0.000000     0.000000   \n",
       "25%        1.000000     0.000000     0.000000     0.000000     0.000000   \n",
       "50%        1.000000     1.000000     0.000000     0.000000     1.000000   \n",
       "75%        2.000000     1.000000     0.000000     0.000000     1.000000   \n",
       "max        3.000000     3.000000     3.000000     3.000000     3.000000   \n",
       "\n",
       "        Industrial   Commercial  \n",
       "count  6698.000000  6698.000000  \n",
       "mean      0.256345     0.788295  \n",
       "std       0.587417     0.979391  \n",
       "min       0.000000     0.000000  \n",
       "25%       0.000000     0.000000  \n",
       "50%       0.000000     0.000000  \n",
       "75%       0.000000     1.000000  \n",
       "max       3.000000     3.000000  "
      ]
     },
     "execution_count": 38,
     "metadata": {},
     "output_type": "execute_result"
    }
   ],
   "source": [
    "#Statistics for all the dataset columns\n",
    "df.describe()"
   ]
  },
  {
   "cell_type": "code",
   "execution_count": 39,
   "metadata": {},
   "outputs": [
    {
     "data": {
      "text/plain": [
       "Bleaching        0.031632\n",
       "Ocean            1.886754\n",
       "Year            23.595197\n",
       "Depth           12.713093\n",
       "Storms           0.248644\n",
       "Human Impact     0.666733\n",
       "Siltation        0.587958\n",
       "Dynamite         0.353507\n",
       "Poison           0.277378\n",
       "Sewage           0.609640\n",
       "Industrial       0.345058\n",
       "Commercial       0.959206\n",
       "dtype: float64"
      ]
     },
     "execution_count": 39,
     "metadata": {},
     "output_type": "execute_result"
    }
   ],
   "source": [
    "#Variance\n",
    "df.var()"
   ]
  },
  {
   "cell_type": "code",
   "execution_count": 40,
   "metadata": {},
   "outputs": [
    {
     "data": {
      "text/plain": [
       "Bleaching       5.256487\n",
       "Ocean           1.829524\n",
       "Year           -0.005202\n",
       "Depth           0.546119\n",
       "Storms         -0.149750\n",
       "Human Impact    0.234679\n",
       "Siltation       0.980897\n",
       "Dynamite        3.181944\n",
       "Poison          3.048071\n",
       "Sewage          0.968680\n",
       "Industrial      2.529821\n",
       "Commercial      0.953236\n",
       "dtype: float64"
      ]
     },
     "execution_count": 40,
     "metadata": {},
     "output_type": "execute_result"
    }
   ],
   "source": [
    "#Skewness\n",
    "df.skew()"
   ]
  },
  {
   "cell_type": "code",
   "execution_count": 41,
   "metadata": {
    "scrolled": false
   },
   "outputs": [
    {
     "data": {
      "text/plain": [
       "Bleaching       25.638307\n",
       "Ocean            2.491713\n",
       "Year            -0.739035\n",
       "Depth           -0.224319\n",
       "Storms          -1.978166\n",
       "Human Impact    -0.550403\n",
       "Siltation        0.529588\n",
       "Dynamite         9.935373\n",
       "Poison           9.280377\n",
       "Sewage           0.563554\n",
       "Industrial       6.436473\n",
       "Commercial      -0.304869\n",
       "dtype: float64"
      ]
     },
     "execution_count": 41,
     "metadata": {},
     "output_type": "execute_result"
    }
   ],
   "source": [
    "#Kurtosis\n",
    "df.kurtosis()"
   ]
  },
  {
   "cell_type": "markdown",
   "metadata": {},
   "source": [
    "# Data Selection"
   ]
  },
  {
   "cell_type": "code",
   "execution_count": 42,
   "metadata": {
    "scrolled": false
   },
   "outputs": [
    {
     "data": {
      "text/html": [
       "<div>\n",
       "<style scoped>\n",
       "    .dataframe tbody tr th:only-of-type {\n",
       "        vertical-align: middle;\n",
       "    }\n",
       "\n",
       "    .dataframe tbody tr th {\n",
       "        vertical-align: top;\n",
       "    }\n",
       "\n",
       "    .dataframe thead th {\n",
       "        text-align: right;\n",
       "    }\n",
       "</style>\n",
       "<table border=\"1\" class=\"dataframe\">\n",
       "  <thead>\n",
       "    <tr style=\"text-align: right;\">\n",
       "      <th></th>\n",
       "      <th>Bleaching</th>\n",
       "      <th>Ocean</th>\n",
       "      <th>Year</th>\n",
       "      <th>Depth</th>\n",
       "      <th>Storms</th>\n",
       "      <th>Human Impact</th>\n",
       "      <th>Siltation</th>\n",
       "      <th>Dynamite</th>\n",
       "      <th>Poison</th>\n",
       "      <th>Sewage</th>\n",
       "      <th>Industrial</th>\n",
       "      <th>Commercial</th>\n",
       "    </tr>\n",
       "  </thead>\n",
       "  <tbody>\n",
       "    <tr>\n",
       "      <th>Bleaching</th>\n",
       "      <td>1.000000</td>\n",
       "      <td>0.019402</td>\n",
       "      <td>-0.267007</td>\n",
       "      <td>0.005963</td>\n",
       "      <td>0.022437</td>\n",
       "      <td>0.003380</td>\n",
       "      <td>-0.155977</td>\n",
       "      <td>0.033580</td>\n",
       "      <td>0.021951</td>\n",
       "      <td>-0.001611</td>\n",
       "      <td>0.014093</td>\n",
       "      <td>-0.145419</td>\n",
       "    </tr>\n",
       "    <tr>\n",
       "      <th>Ocean</th>\n",
       "      <td>0.019402</td>\n",
       "      <td>1.000000</td>\n",
       "      <td>-0.015341</td>\n",
       "      <td>-0.065300</td>\n",
       "      <td>-0.156329</td>\n",
       "      <td>-0.095182</td>\n",
       "      <td>-0.139408</td>\n",
       "      <td>0.012076</td>\n",
       "      <td>-0.007465</td>\n",
       "      <td>-0.047810</td>\n",
       "      <td>-0.086095</td>\n",
       "      <td>-0.114461</td>\n",
       "    </tr>\n",
       "    <tr>\n",
       "      <th>Year</th>\n",
       "      <td>-0.267007</td>\n",
       "      <td>-0.015341</td>\n",
       "      <td>1.000000</td>\n",
       "      <td>-0.012709</td>\n",
       "      <td>0.017641</td>\n",
       "      <td>-0.012913</td>\n",
       "      <td>0.186600</td>\n",
       "      <td>-0.017068</td>\n",
       "      <td>-0.042331</td>\n",
       "      <td>0.041363</td>\n",
       "      <td>0.012422</td>\n",
       "      <td>0.214218</td>\n",
       "    </tr>\n",
       "    <tr>\n",
       "      <th>Depth</th>\n",
       "      <td>0.005963</td>\n",
       "      <td>-0.065300</td>\n",
       "      <td>-0.012709</td>\n",
       "      <td>1.000000</td>\n",
       "      <td>-0.019571</td>\n",
       "      <td>-0.051463</td>\n",
       "      <td>-0.054420</td>\n",
       "      <td>0.009168</td>\n",
       "      <td>-0.010695</td>\n",
       "      <td>0.017368</td>\n",
       "      <td>0.037545</td>\n",
       "      <td>0.101587</td>\n",
       "    </tr>\n",
       "    <tr>\n",
       "      <th>Storms</th>\n",
       "      <td>0.022437</td>\n",
       "      <td>-0.156329</td>\n",
       "      <td>0.017641</td>\n",
       "      <td>-0.019571</td>\n",
       "      <td>1.000000</td>\n",
       "      <td>0.071297</td>\n",
       "      <td>0.022608</td>\n",
       "      <td>-0.045389</td>\n",
       "      <td>-0.029320</td>\n",
       "      <td>-0.005098</td>\n",
       "      <td>-0.013553</td>\n",
       "      <td>0.037280</td>\n",
       "    </tr>\n",
       "    <tr>\n",
       "      <th>Human Impact</th>\n",
       "      <td>0.003380</td>\n",
       "      <td>-0.095182</td>\n",
       "      <td>-0.012913</td>\n",
       "      <td>-0.051463</td>\n",
       "      <td>0.071297</td>\n",
       "      <td>1.000000</td>\n",
       "      <td>0.240598</td>\n",
       "      <td>0.217227</td>\n",
       "      <td>0.219698</td>\n",
       "      <td>0.365101</td>\n",
       "      <td>0.196686</td>\n",
       "      <td>0.188814</td>\n",
       "    </tr>\n",
       "    <tr>\n",
       "      <th>Siltation</th>\n",
       "      <td>-0.155977</td>\n",
       "      <td>-0.139408</td>\n",
       "      <td>0.186600</td>\n",
       "      <td>-0.054420</td>\n",
       "      <td>0.022608</td>\n",
       "      <td>0.240598</td>\n",
       "      <td>1.000000</td>\n",
       "      <td>-0.002233</td>\n",
       "      <td>0.022348</td>\n",
       "      <td>0.167271</td>\n",
       "      <td>0.172137</td>\n",
       "      <td>0.239735</td>\n",
       "    </tr>\n",
       "    <tr>\n",
       "      <th>Dynamite</th>\n",
       "      <td>0.033580</td>\n",
       "      <td>0.012076</td>\n",
       "      <td>-0.017068</td>\n",
       "      <td>0.009168</td>\n",
       "      <td>-0.045389</td>\n",
       "      <td>0.217227</td>\n",
       "      <td>-0.002233</td>\n",
       "      <td>1.000000</td>\n",
       "      <td>0.716057</td>\n",
       "      <td>0.053519</td>\n",
       "      <td>0.089558</td>\n",
       "      <td>0.177906</td>\n",
       "    </tr>\n",
       "    <tr>\n",
       "      <th>Poison</th>\n",
       "      <td>0.021951</td>\n",
       "      <td>-0.007465</td>\n",
       "      <td>-0.042331</td>\n",
       "      <td>-0.010695</td>\n",
       "      <td>-0.029320</td>\n",
       "      <td>0.219698</td>\n",
       "      <td>0.022348</td>\n",
       "      <td>0.716057</td>\n",
       "      <td>1.000000</td>\n",
       "      <td>0.116970</td>\n",
       "      <td>0.111372</td>\n",
       "      <td>0.169627</td>\n",
       "    </tr>\n",
       "    <tr>\n",
       "      <th>Sewage</th>\n",
       "      <td>-0.001611</td>\n",
       "      <td>-0.047810</td>\n",
       "      <td>0.041363</td>\n",
       "      <td>0.017368</td>\n",
       "      <td>-0.005098</td>\n",
       "      <td>0.365101</td>\n",
       "      <td>0.167271</td>\n",
       "      <td>0.053519</td>\n",
       "      <td>0.116970</td>\n",
       "      <td>1.000000</td>\n",
       "      <td>0.312602</td>\n",
       "      <td>0.211236</td>\n",
       "    </tr>\n",
       "    <tr>\n",
       "      <th>Industrial</th>\n",
       "      <td>0.014093</td>\n",
       "      <td>-0.086095</td>\n",
       "      <td>0.012422</td>\n",
       "      <td>0.037545</td>\n",
       "      <td>-0.013553</td>\n",
       "      <td>0.196686</td>\n",
       "      <td>0.172137</td>\n",
       "      <td>0.089558</td>\n",
       "      <td>0.111372</td>\n",
       "      <td>0.312602</td>\n",
       "      <td>1.000000</td>\n",
       "      <td>0.157934</td>\n",
       "    </tr>\n",
       "    <tr>\n",
       "      <th>Commercial</th>\n",
       "      <td>-0.145419</td>\n",
       "      <td>-0.114461</td>\n",
       "      <td>0.214218</td>\n",
       "      <td>0.101587</td>\n",
       "      <td>0.037280</td>\n",
       "      <td>0.188814</td>\n",
       "      <td>0.239735</td>\n",
       "      <td>0.177906</td>\n",
       "      <td>0.169627</td>\n",
       "      <td>0.211236</td>\n",
       "      <td>0.157934</td>\n",
       "      <td>1.000000</td>\n",
       "    </tr>\n",
       "  </tbody>\n",
       "</table>\n",
       "</div>"
      ],
      "text/plain": [
       "              Bleaching     Ocean      Year     Depth    Storms  Human Impact  \\\n",
       "Bleaching      1.000000  0.019402 -0.267007  0.005963  0.022437      0.003380   \n",
       "Ocean          0.019402  1.000000 -0.015341 -0.065300 -0.156329     -0.095182   \n",
       "Year          -0.267007 -0.015341  1.000000 -0.012709  0.017641     -0.012913   \n",
       "Depth          0.005963 -0.065300 -0.012709  1.000000 -0.019571     -0.051463   \n",
       "Storms         0.022437 -0.156329  0.017641 -0.019571  1.000000      0.071297   \n",
       "Human Impact   0.003380 -0.095182 -0.012913 -0.051463  0.071297      1.000000   \n",
       "Siltation     -0.155977 -0.139408  0.186600 -0.054420  0.022608      0.240598   \n",
       "Dynamite       0.033580  0.012076 -0.017068  0.009168 -0.045389      0.217227   \n",
       "Poison         0.021951 -0.007465 -0.042331 -0.010695 -0.029320      0.219698   \n",
       "Sewage        -0.001611 -0.047810  0.041363  0.017368 -0.005098      0.365101   \n",
       "Industrial     0.014093 -0.086095  0.012422  0.037545 -0.013553      0.196686   \n",
       "Commercial    -0.145419 -0.114461  0.214218  0.101587  0.037280      0.188814   \n",
       "\n",
       "              Siltation  Dynamite    Poison    Sewage  Industrial  Commercial  \n",
       "Bleaching     -0.155977  0.033580  0.021951 -0.001611    0.014093   -0.145419  \n",
       "Ocean         -0.139408  0.012076 -0.007465 -0.047810   -0.086095   -0.114461  \n",
       "Year           0.186600 -0.017068 -0.042331  0.041363    0.012422    0.214218  \n",
       "Depth         -0.054420  0.009168 -0.010695  0.017368    0.037545    0.101587  \n",
       "Storms         0.022608 -0.045389 -0.029320 -0.005098   -0.013553    0.037280  \n",
       "Human Impact   0.240598  0.217227  0.219698  0.365101    0.196686    0.188814  \n",
       "Siltation      1.000000 -0.002233  0.022348  0.167271    0.172137    0.239735  \n",
       "Dynamite      -0.002233  1.000000  0.716057  0.053519    0.089558    0.177906  \n",
       "Poison         0.022348  0.716057  1.000000  0.116970    0.111372    0.169627  \n",
       "Sewage         0.167271  0.053519  0.116970  1.000000    0.312602    0.211236  \n",
       "Industrial     0.172137  0.089558  0.111372  0.312602    1.000000    0.157934  \n",
       "Commercial     0.239735  0.177906  0.169627  0.211236    0.157934    1.000000  "
      ]
     },
     "execution_count": 42,
     "metadata": {},
     "output_type": "execute_result"
    }
   ],
   "source": [
    "#Column-wise correlation in the dataset\n",
    "df.corr()"
   ]
  },
  {
   "cell_type": "code",
   "execution_count": 43,
   "metadata": {},
   "outputs": [],
   "source": [
    "#Import seaborn library\n",
    "import seaborn as sns\n",
    "#Set the size of the heatmap\n",
    "sns.set(rc={'figure.figsize':(15,10)})"
   ]
  },
  {
   "cell_type": "code",
   "execution_count": 44,
   "metadata": {
    "scrolled": false
   },
   "outputs": [
    {
     "data": {
      "text/plain": [
       "<AxesSubplot:>"
      ]
     },
     "execution_count": 44,
     "metadata": {},
     "output_type": "execute_result"
    },
    {
     "data": {
      "image/png": "[encoded data removed]",
      "text/plain": [
       "<Figure size 1080x720 with 2 Axes>"
      ]
     },
     "metadata": {},
     "output_type": "display_data"
    }
   ],
   "source": [
    "#Pearson correlation\n",
    "sns.heatmap(df.corr('pearson'),annot=True)"
   ]
  },
  {
   "cell_type": "code",
   "execution_count": 45,
   "metadata": {},
   "outputs": [
    {
     "data": {
      "text/plain": [
       "<AxesSubplot:>"
      ]
     },
     "execution_count": 45,
     "metadata": {},
     "output_type": "execute_result"
    },
    {
     "data": {
      "image/png": "[encoded data removed]",
      "text/plain": [
       "<Figure size 1080x720 with 2 Axes>"
      ]
     },
     "metadata": {},
     "output_type": "display_data"
    }
   ],
   "source": [
    "#Spearman correlation\n",
    "sns.heatmap(df.corr('spearman'),annot=True)"
   ]
  },
  {
   "cell_type": "code",
   "execution_count": 46,
   "metadata": {},
   "outputs": [
    {
     "data": {
      "text/plain": [
       "<AxesSubplot:>"
      ]
     },
     "execution_count": 46,
     "metadata": {},
     "output_type": "execute_result"
    },
    {
     "data": {
      "image/png": "[encoded data removed]",
      "text/plain": [
       "<Figure size 1080x720 with 2 Axes>"
      ]
     },
     "metadata": {},
     "output_type": "display_data"
    }
   ],
   "source": [
    "#Kendall correlation\n",
    "sns.heatmap(df.corr('kendall'),annot=True)"
   ]
  },
  {
   "cell_type": "markdown",
   "metadata": {},
   "source": [
    "Pearson, Spearman and Kendall all give similar results.\n",
    "\n",
    "Target column: Bleaching\n",
    "\n",
    "Pearson correlation results in:\n",
    "\n",
    "Columns Year, Siltation and Commercial are the least correlated to the target column Bleaching. They are dropped."
   ]
  },
  {
   "cell_type": "code",
   "execution_count": 47,
   "metadata": {
    "scrolled": false
   },
   "outputs": [],
   "source": [
    "df=df.drop(['Year','Siltation','Commercial'],axis=1)"
   ]
  },
  {
   "cell_type": "code",
   "execution_count": 48,
   "metadata": {
    "scrolled": true
   },
   "outputs": [],
   "source": [
    "df.replace('', numpy.nan, inplace=True)"
   ]
  },
  {
   "cell_type": "code",
   "execution_count": 49,
   "metadata": {},
   "outputs": [],
   "source": [
    "df.dropna(inplace=True)"
   ]
  },
  {
   "cell_type": "code",
   "execution_count": 50,
   "metadata": {
    "scrolled": false
   },
   "outputs": [
    {
     "data": {
      "text/html": [
       "<div>\n",
       "<style scoped>\n",
       "    .dataframe tbody tr th:only-of-type {\n",
       "        vertical-align: middle;\n",
       "    }\n",
       "\n",
       "    .dataframe tbody tr th {\n",
       "        vertical-align: top;\n",
       "    }\n",
       "\n",
       "    .dataframe thead th {\n",
       "        text-align: right;\n",
       "    }\n",
       "</style>\n",
       "<table border=\"1\" class=\"dataframe\">\n",
       "  <thead>\n",
       "    <tr style=\"text-align: right;\">\n",
       "      <th></th>\n",
       "      <th>Bleaching</th>\n",
       "      <th>Ocean</th>\n",
       "      <th>Depth</th>\n",
       "      <th>Storms</th>\n",
       "      <th>Human Impact</th>\n",
       "      <th>Dynamite</th>\n",
       "      <th>Poison</th>\n",
       "      <th>Sewage</th>\n",
       "      <th>Industrial</th>\n",
       "    </tr>\n",
       "  </thead>\n",
       "  <tbody>\n",
       "    <tr>\n",
       "      <th>1</th>\n",
       "      <td>0</td>\n",
       "      <td>2</td>\n",
       "      <td>6.0</td>\n",
       "      <td>0</td>\n",
       "      <td>3</td>\n",
       "      <td>0</td>\n",
       "      <td>0</td>\n",
       "      <td>1</td>\n",
       "      <td>0</td>\n",
       "    </tr>\n",
       "    <tr>\n",
       "      <th>2</th>\n",
       "      <td>0</td>\n",
       "      <td>1</td>\n",
       "      <td>3.0</td>\n",
       "      <td>0</td>\n",
       "      <td>1</td>\n",
       "      <td>0</td>\n",
       "      <td>0</td>\n",
       "      <td>0</td>\n",
       "      <td>1</td>\n",
       "    </tr>\n",
       "    <tr>\n",
       "      <th>3</th>\n",
       "      <td>0</td>\n",
       "      <td>1</td>\n",
       "      <td>10.0</td>\n",
       "      <td>0</td>\n",
       "      <td>1</td>\n",
       "      <td>0</td>\n",
       "      <td>0</td>\n",
       "      <td>0</td>\n",
       "      <td>1</td>\n",
       "    </tr>\n",
       "    <tr>\n",
       "      <th>4</th>\n",
       "      <td>0</td>\n",
       "      <td>0</td>\n",
       "      <td>10.0</td>\n",
       "      <td>0</td>\n",
       "      <td>3</td>\n",
       "      <td>0</td>\n",
       "      <td>0</td>\n",
       "      <td>3</td>\n",
       "      <td>2</td>\n",
       "    </tr>\n",
       "    <tr>\n",
       "      <th>5</th>\n",
       "      <td>0</td>\n",
       "      <td>0</td>\n",
       "      <td>6.0</td>\n",
       "      <td>0</td>\n",
       "      <td>1</td>\n",
       "      <td>0</td>\n",
       "      <td>0</td>\n",
       "      <td>0</td>\n",
       "      <td>0</td>\n",
       "    </tr>\n",
       "  </tbody>\n",
       "</table>\n",
       "</div>"
      ],
      "text/plain": [
       "   Bleaching  Ocean  Depth  Storms  Human Impact  Dynamite  Poison  Sewage  \\\n",
       "1          0      2    6.0       0             3         0       0       1   \n",
       "2          0      1    3.0       0             1         0       0       0   \n",
       "3          0      1   10.0       0             1         0       0       0   \n",
       "4          0      0   10.0       0             3         0       0       3   \n",
       "5          0      0    6.0       0             1         0       0       0   \n",
       "\n",
       "   Industrial  \n",
       "1           0  \n",
       "2           1  \n",
       "3           1  \n",
       "4           2  \n",
       "5           0  "
      ]
     },
     "execution_count": 50,
     "metadata": {},
     "output_type": "execute_result"
    }
   ],
   "source": [
    "df.head()"
   ]
  },
  {
   "cell_type": "markdown",
   "metadata": {},
   "source": [
    "# Data Splitting and Model Building (Logistic regression)"
   ]
  },
  {
   "cell_type": "markdown",
   "metadata": {},
   "source": [
    "Logistic Regression using sklearn"
   ]
  },
  {
   "cell_type": "code",
   "execution_count": 51,
   "metadata": {},
   "outputs": [],
   "source": [
    "#Logistic regression model using sklearn\n",
    "X = df.iloc[:, 1:]\n",
    "y = df.iloc[:,0]"
   ]
  },
  {
   "cell_type": "code",
   "execution_count": 52,
   "metadata": {},
   "outputs": [],
   "source": [
    "#Split in training and testing sets\n",
    "from sklearn.model_selection import train_test_split\n",
    "X_train, X_test, y_train, y_test = train_test_split(X, y, test_size=0.25)"
   ]
  },
  {
   "cell_type": "code",
   "execution_count": 53,
   "metadata": {},
   "outputs": [],
   "source": [
    "#Scale\n",
    "from sklearn.preprocessing import StandardScaler\n",
    "X_sca = StandardScaler()\n",
    "X_train = X_sca.fit_transform(X_train)\n",
    "X_test = X_sca.fit_transform(X_test)"
   ]
  },
  {
   "cell_type": "code",
   "execution_count": 54,
   "metadata": {},
   "outputs": [
    {
     "data": {
      "text/plain": [
       "LogisticRegression(random_state=0)"
      ]
     },
     "execution_count": 54,
     "metadata": {},
     "output_type": "execute_result"
    }
   ],
   "source": [
    "#Train the model\n",
    "from sklearn.linear_model import LogisticRegression\n",
    "clf = LogisticRegression(random_state=0)\n",
    "clf.fit(X_train, y_train)"
   ]
  },
  {
   "cell_type": "code",
   "execution_count": 55,
   "metadata": {},
   "outputs": [],
   "source": [
    "#Data predicted by the model\n",
    "y_pred = clf.predict(X_test)"
   ]
  },
  {
   "cell_type": "code",
   "execution_count": 56,
   "metadata": {},
   "outputs": [
    {
     "data": {
      "text/plain": [
       "array([[1623,    0],\n",
       "       [  52,    0]], dtype=int64)"
      ]
     },
     "execution_count": 56,
     "metadata": {},
     "output_type": "execute_result"
    }
   ],
   "source": [
    "#Confusion matrix\n",
    "from sklearn.metrics import confusion_matrix\n",
    "cm = confusion_matrix(y_test, y_pred)\n",
    "cm"
   ]
  },
  {
   "cell_type": "code",
   "execution_count": 57,
   "metadata": {
    "scrolled": false
   },
   "outputs": [
    {
     "data": {
      "text/plain": [
       "0.968955223880597"
      ]
     },
     "execution_count": 57,
     "metadata": {},
     "output_type": "execute_result"
    }
   ],
   "source": [
    "#Model accuracy\n",
    "clf.score(X_test, y_test)"
   ]
  },
  {
   "cell_type": "code",
   "execution_count": 58,
   "metadata": {
    "scrolled": true
   },
   "outputs": [
    {
     "data": {
      "text/plain": [
       "array([[ 0.11675652, -0.02698828,  0.07907409, -0.0796178 ,  0.1738843 ,\n",
       "         0.02081151,  0.00597697,  0.08028884]])"
      ]
     },
     "execution_count": 58,
     "metadata": {},
     "output_type": "execute_result"
    }
   ],
   "source": [
    "#Co-efficients of the Logistic regression equation\n",
    "clf.coef_"
   ]
  },
  {
   "cell_type": "code",
   "execution_count": 59,
   "metadata": {},
   "outputs": [
    {
     "data": {
      "text/plain": [
       "array([-3.40005738])"
      ]
     },
     "execution_count": 59,
     "metadata": {},
     "output_type": "execute_result"
    }
   ],
   "source": [
    "#y-intercept of the Logistic regression equation\n",
    "clf.intercept_"
   ]
  },
  {
   "cell_type": "markdown",
   "metadata": {},
   "source": [
    "# Logistic regression equation"
   ]
  },
  {
   "cell_type": "markdown",
   "metadata": {},
   "source": [
    "y -> target variable i.e. Bleaching\n",
    "\n",
    "a -> y-intercept of Bleaching\n",
    "\n",
    "b0 -> co-efficient of Ocean\n",
    "\n",
    "b1 -> co-efficient of Depth\n",
    "\n",
    "b2 -> co-efficient of Storms\n",
    "\n",
    "b3 -> co-efficient of Human Impact\n",
    "\n",
    "b4 -> co-efficient of Dynamite\n",
    "\n",
    "b5 -> co-efficient of Poison\n",
    "\n",
    "b6 -> co-efficient of Sewage\n",
    "\n",
    "b7 -> co-efficient of Industrial\n",
    "\n",
    "General equation: y = a + b0x0 + b1x1 + ... + bnxn\n",
    "\n",
    "Actual equation: Bleaching = -3.4 + 0.1168(Ocean) - 0.027(Depth) + 0.0791(Storms) - 0.0796(Human Impact) + 0.1739(Dynamite) + 0.0208(Poison) + 0.006(Sewage) + 0.0803(Industrial)"
   ]
  },
  {
   "cell_type": "markdown",
   "metadata": {},
   "source": [
    "# Model evaluation through k-fold cross validation and evaluation metrics"
   ]
  },
  {
   "cell_type": "code",
   "execution_count": 60,
   "metadata": {
    "scrolled": true
   },
   "outputs": [
    {
     "name": "stdout",
     "output_type": "stream",
     "text": [
      "Avg accuracy: 0.967305518709663\n"
     ]
    }
   ],
   "source": [
    "#K-fold cross-validation\n",
    "#Logistic Regression\n",
    "X = df.iloc[:,1:]\n",
    "y = df.iloc[:,0]\n",
    "k = 5\n",
    "kf = model_selection.KFold(n_splits=k, random_state=None)\n",
    "model = LogisticRegression(solver= 'liblinear')\n",
    "result = cross_val_score(model , X, y, cv = kf)\n",
    "print(\"Avg accuracy: {}\".format(result.mean()))"
   ]
  },
  {
   "cell_type": "code",
   "execution_count": 61,
   "metadata": {},
   "outputs": [
    {
     "data": {
      "text/plain": [
       "0.031044776119402984"
      ]
     },
     "execution_count": 61,
     "metadata": {},
     "output_type": "execute_result"
    }
   ],
   "source": [
    "#Root mean square error\n",
    "import sklearn\n",
    "sklearn.metrics.mean_squared_error(y_test,y_pred)"
   ]
  },
  {
   "cell_type": "code",
   "execution_count": 62,
   "metadata": {},
   "outputs": [
    {
     "data": {
      "text/plain": [
       "-0.03203943314849078"
      ]
     },
     "execution_count": 62,
     "metadata": {},
     "output_type": "execute_result"
    }
   ],
   "source": [
    "#R2 score\n",
    "import sklearn\n",
    "sklearn.metrics.r2_score(y_test,y_pred)"
   ]
  },
  {
   "cell_type": "markdown",
   "metadata": {},
   "source": [
    "Performing similar analysis for Pearson, Spearman and Kendall correlations gives the following results:"
   ]
  },
  {
   "cell_type": "markdown",
   "metadata": {},
   "source": [
    "Accuracy through Logistic regression using sklearn:\n",
    "\n",
    "Pearson: 0.968955223880597\n",
    "\n",
    "Spearman: 0.9659701492537314\n",
    "\n",
    "Kendall: 0.9707462686567164\n",
    "\n",
    "Thus, Kendall correlation gives the most accurate results."
   ]
  },
  {
   "cell_type": "markdown",
   "metadata": {},
   "source": [
    "Average accuracy through K-fold cross validation:\n",
    "\n",
    "Pearson: 0.967305518709663\n",
    "\n",
    "Spearman: 0.966712405114086\n",
    "\n",
    "Kendall: 0.9670109125767725\n",
    "\n",
    "Thus, Pearson correlation gives the most accurate results."
   ]
  },
  {
   "cell_type": "markdown",
   "metadata": {},
   "source": [
    "RMSE (Root Mean Squar Error):\n",
    "\n",
    "Pearson: 0.031044776119402984\n",
    "\n",
    "Spearman: 0.03402985074626866\n",
    "\n",
    "Kendall: 0.029253731343283584\n",
    "\n",
    "Thus, Kendall correlation gives the least RMSE."
   ]
  },
  {
   "cell_type": "markdown",
   "metadata": {},
   "source": [
    "R2 score:\n",
    "\n",
    "Pearson: -0.03203943314849078\n",
    "\n",
    "Spearman: -0.03522867737948099\n",
    "\n",
    "Kendall: -0.0509501126818277\n",
    "\n",
    "Thus, Pearson correlation gives the best R2 score."
   ]
  },
  {
   "cell_type": "markdown",
   "metadata": {},
   "source": [
    "# Cross-checking the model with one of the dataset samples"
   ]
  },
  {
   "cell_type": "code",
   "execution_count": 63,
   "metadata": {
    "scrolled": true
   },
   "outputs": [
    {
     "data": {
      "text/html": [
       "<div>\n",
       "<style scoped>\n",
       "    .dataframe tbody tr th:only-of-type {\n",
       "        vertical-align: middle;\n",
       "    }\n",
       "\n",
       "    .dataframe tbody tr th {\n",
       "        vertical-align: top;\n",
       "    }\n",
       "\n",
       "    .dataframe thead th {\n",
       "        text-align: right;\n",
       "    }\n",
       "</style>\n",
       "<table border=\"1\" class=\"dataframe\">\n",
       "  <thead>\n",
       "    <tr style=\"text-align: right;\">\n",
       "      <th></th>\n",
       "      <th>Bleaching</th>\n",
       "      <th>Ocean</th>\n",
       "      <th>Depth</th>\n",
       "      <th>Storms</th>\n",
       "      <th>Human Impact</th>\n",
       "      <th>Dynamite</th>\n",
       "      <th>Poison</th>\n",
       "      <th>Sewage</th>\n",
       "      <th>Industrial</th>\n",
       "    </tr>\n",
       "  </thead>\n",
       "  <tbody>\n",
       "    <tr>\n",
       "      <th>1</th>\n",
       "      <td>0</td>\n",
       "      <td>2</td>\n",
       "      <td>6.0</td>\n",
       "      <td>0</td>\n",
       "      <td>3</td>\n",
       "      <td>0</td>\n",
       "      <td>0</td>\n",
       "      <td>1</td>\n",
       "      <td>0</td>\n",
       "    </tr>\n",
       "  </tbody>\n",
       "</table>\n",
       "</div>"
      ],
      "text/plain": [
       "   Bleaching  Ocean  Depth  Storms  Human Impact  Dynamite  Poison  Sewage  \\\n",
       "1          0      2    6.0       0             3         0       0       1   \n",
       "\n",
       "   Industrial  \n",
       "1           0  "
      ]
     },
     "execution_count": 63,
     "metadata": {},
     "output_type": "execute_result"
    }
   ],
   "source": [
    "#Bleaching didn't occur - 0\n",
    "#Bleaching occured - 1\n",
    "df.head(1)"
   ]
  },
  {
   "cell_type": "code",
   "execution_count": 64,
   "metadata": {},
   "outputs": [
    {
     "name": "stdout",
     "output_type": "stream",
     "text": [
      "Bleaching will not occur\n"
     ]
    }
   ],
   "source": [
    "if bool(clf.predict([[0,4,1,3,0,0,0,0]])):\n",
    "    print(\"Bleaching will occur\")\n",
    "else:\n",
    "    print(\"Bleaching will not occur\")"
   ]
  },
  {
   "cell_type": "markdown",
   "metadata": {},
   "source": [
    "# Using the model to predict whether bleaching will occur for unseen data"
   ]
  },
  {
   "cell_type": "code",
   "execution_count": 65,
   "metadata": {
    "scrolled": false
   },
   "outputs": [
    {
     "name": "stdout",
     "output_type": "stream",
     "text": [
      "Bleaching doesn't actually occur\n"
     ]
    }
   ],
   "source": [
    "#Using the \"row\" saved earlier\n",
    "#It is a data sample never seen by the model before\n",
    "actual_bleaching = row[0]\n",
    "\n",
    "if actual_bleaching:\n",
    "    print(\"Bleaching doesn't actually occur\")\n",
    "else:\n",
    "    print(\"Bleaching Actually occurs\")"
   ]
  },
  {
   "cell_type": "code",
   "execution_count": 66,
   "metadata": {},
   "outputs": [
    {
     "name": "stdout",
     "output_type": "stream",
     "text": [
      "Original row:  ['Atlantic', 4.0, 'yes', 'high', 'none', 'none', 'high', 'none']\n",
      "Label encoded row:  [0, 4.0, 1, 3, 0, 0, 3, 0]\n"
     ]
    }
   ],
   "source": [
    "#Preparing the 'row' for prediction\n",
    "row.pop()\n",
    "row=[row[1]]+row[3:6]+row[7:]\n",
    "\n",
    "#Original row\n",
    "print(\"Original row: \",row)\n",
    "\n",
    "#Label encoded row\n",
    "row=[0,4.0,1,3,0,0,3,0]\n",
    "print(\"Label encoded row: \",row)"
   ]
  },
  {
   "cell_type": "code",
   "execution_count": 67,
   "metadata": {},
   "outputs": [
    {
     "name": "stdout",
     "output_type": "stream",
     "text": [
      "No, Bleaching doesn't occur\n"
     ]
    }
   ],
   "source": [
    "#Predicting using the model\n",
    "predicted_bleaching = clf.predict([row])[0]\n",
    "\n",
    "if bool(predicted_bleaching):\n",
    "    predicted_bleaching = \"Yes, Bleaching occurs\"\n",
    "else:\n",
    "    predicted_bleaching = \"No, Bleaching doesn't occur\"\n",
    "\n",
    "print(predicted_bleaching)"
   ]
  },
  {
   "cell_type": "markdown",
   "metadata": {},
   "source": [
    "The predicted result for unseen data is correct."
   ]
  },
  {
   "cell_type": "markdown",
   "metadata": {},
   "source": [
    "# Conclusion"
   ]
  },
  {
   "cell_type": "markdown",
   "metadata": {},
   "source": [
    "The analysis shows that -\n",
    "\n",
    "Dynamite, Storms, Poison, Ocean and Industrial are the leading features to determine whether or not a coral reef will be bleached, in that order.\n",
    "\n",
    "Depth, Human Impact and Sewage are important but not very significant factors, in the same order.\n",
    "\n",
    "Commercial, Siltation and Year are least correlated to Bleaching, in the given order."
   ]
  }
 ],
 "metadata": {
  "kernelspec": {
   "display_name": "Python 3",
   "language": "python",
   "name": "python3"
  },
  "language_info": {
   "codemirror_mode": {
    "name": "ipython",
    "version": 3
   },
   "file_extension": ".py",
   "mimetype": "text/x-python",
   "name": "python",
   "nbconvert_exporter": "python",
   "pygments_lexer": "ipython3",
   "version": "3.8.5"
  }
 },
 "nbformat": 4,
 "nbformat_minor": 4
}
